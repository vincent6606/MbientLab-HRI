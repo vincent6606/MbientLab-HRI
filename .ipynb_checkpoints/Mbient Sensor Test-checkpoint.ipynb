{
 "cells": [
  {
   "cell_type": "code",
   "execution_count": 59,
   "metadata": {
    "collapsed": false
   },
   "outputs": [],
   "source": [
    "import pandas as pd\n",
    "import numpy as np\n",
    "import matplotlib\n",
    "import matplotlib.pyplot as plt\n",
    "from matplotlib import style\n",
    "import time\n",
    "from time import gmtime, strftime\n",
    "style.use('ggplot')"
   ]
  },
  {
   "cell_type": "code",
   "execution_count": 60,
   "metadata": {
    "collapsed": false
   },
   "outputs": [
    {
     "data": {
      "text/html": [
       "<div>\n",
       "<table border=\"1\" class=\"dataframe\">\n",
       "  <thead>\n",
       "    <tr style=\"text-align: right;\">\n",
       "      <th></th>\n",
       "      <th>epoc (ms)</th>\n",
       "      <th>timestamp (-04:00)</th>\n",
       "      <th>elapsed (s)</th>\n",
       "      <th>x-axis (g)</th>\n",
       "      <th>y-axis (g)</th>\n",
       "      <th>z-axis (g)</th>\n",
       "    </tr>\n",
       "  </thead>\n",
       "  <tbody>\n",
       "    <tr>\n",
       "      <th>0</th>\n",
       "      <td>1477768025222</td>\n",
       "      <td>2016-10-29T15.07.05.222</td>\n",
       "      <td>0.000000</td>\n",
       "      <td>-0.115234</td>\n",
       "      <td>0.034668</td>\n",
       "      <td>0.987305</td>\n",
       "    </tr>\n",
       "    <tr>\n",
       "      <th>1</th>\n",
       "      <td>1477768025241</td>\n",
       "      <td>2016-10-29T15.07.05.241</td>\n",
       "      <td>0.019043</td>\n",
       "      <td>-0.114258</td>\n",
       "      <td>0.035156</td>\n",
       "      <td>0.994141</td>\n",
       "    </tr>\n",
       "    <tr>\n",
       "      <th>2</th>\n",
       "      <td>1477768025262</td>\n",
       "      <td>2016-10-29T15.07.05.262</td>\n",
       "      <td>0.039551</td>\n",
       "      <td>-0.113281</td>\n",
       "      <td>0.033203</td>\n",
       "      <td>0.994141</td>\n",
       "    </tr>\n",
       "    <tr>\n",
       "      <th>3</th>\n",
       "      <td>1477768025281</td>\n",
       "      <td>2016-10-29T15.07.05.281</td>\n",
       "      <td>0.058594</td>\n",
       "      <td>-0.112793</td>\n",
       "      <td>0.032227</td>\n",
       "      <td>0.995605</td>\n",
       "    </tr>\n",
       "    <tr>\n",
       "      <th>4</th>\n",
       "      <td>1477768025301</td>\n",
       "      <td>2016-10-29T15.07.05.301</td>\n",
       "      <td>0.079102</td>\n",
       "      <td>-0.116211</td>\n",
       "      <td>0.034668</td>\n",
       "      <td>0.997070</td>\n",
       "    </tr>\n",
       "  </tbody>\n",
       "</table>\n",
       "</div>"
      ],
      "text/plain": [
       "       epoc (ms)       timestamp (-04:00)  elapsed (s)  x-axis (g)  \\\n",
       "0  1477768025222  2016-10-29T15.07.05.222     0.000000   -0.115234   \n",
       "1  1477768025241  2016-10-29T15.07.05.241     0.019043   -0.114258   \n",
       "2  1477768025262  2016-10-29T15.07.05.262     0.039551   -0.113281   \n",
       "3  1477768025281  2016-10-29T15.07.05.281     0.058594   -0.112793   \n",
       "4  1477768025301  2016-10-29T15.07.05.301     0.079102   -0.116211   \n",
       "\n",
       "   y-axis (g)  z-axis (g)  \n",
       "0    0.034668    0.987305  \n",
       "1    0.035156    0.994141  \n",
       "2    0.033203    0.994141  \n",
       "3    0.032227    0.995605  \n",
       "4    0.034668    0.997070  "
      ]
     },
     "execution_count": 60,
     "metadata": {},
     "output_type": "execute_result"
    }
   ],
   "source": [
    "#Read in the data\n",
    "acc = pd.read_csv('Acc_stationary.csv',low_memory=False)\n",
    "#Read in Gyroscope data\n",
    "gyro = pd.read_csv('Gyro_stationary.csv',low_memory=False)\n",
    "acc['elapsed (s)'] = pd.to_numeric(acc['elapsed (s)'])\n",
    "acc['x-axis (g)'] = pd.to_numeric(acc['x-axis (g)'])\n",
    "acc['y-axis (g)'] = pd.to_numeric(acc['y-axis (g)'])\n",
    "acc['z-axis (g)'] = pd.to_numeric(acc['z-axis (g)'])\n",
    "\n",
    "gyro['elapsed (s)'] = pd.to_numeric(gyro['elapsed (s)'])\n",
    "gyro['x-axis (deg/s)'] = pd.to_numeric(gyro['x-axis (deg/s)'])\n",
    "gyro['y-axis (deg/s)'] = pd.to_numeric(gyro['y-axis (deg/s)'])\n",
    "gyro['z-axis (deg/s)'] = pd.to_numeric(gyro['z-axis (deg/s)'])\n",
    "acc.head()\n"
   ]
  },
  {
   "cell_type": "code",
   "execution_count": 61,
   "metadata": {
    "collapsed": false
   },
   "outputs": [
    {
     "name": "stdout",
     "output_type": "stream",
     "text": [
      "[u'seaborn-darkgrid', u'seaborn-notebook', u'classic', u'seaborn-ticks', u'grayscale', u'bmh', u'seaborn-talk', u'dark_background', u'ggplot', u'fivethirtyeight', u'seaborn-colorblind', u'seaborn-deep', u'seaborn-whitegrid', u'seaborn-bright', u'seaborn-poster', u'seaborn-muted', u'seaborn-paper', u'seaborn-white', u'seaborn-pastel', u'seaborn-dark', u'seaborn-dark-palette']\n"
     ]
    }
   ],
   "source": [
    "print(plt.style.available)"
   ]
  },
  {
   "cell_type": "code",
   "execution_count": 62,
   "metadata": {
    "collapsed": false
   },
   "outputs": [
    {
     "data": {
      "text/html": [
       "<div>\n",
       "<table border=\"1\" class=\"dataframe\">\n",
       "  <thead>\n",
       "    <tr style=\"text-align: right;\">\n",
       "      <th></th>\n",
       "      <th>epoc (ms)</th>\n",
       "      <th>timestamp (-04:00)</th>\n",
       "      <th>elapsed (s)</th>\n",
       "      <th>x-axis (deg/s)</th>\n",
       "      <th>y-axis (deg/s)</th>\n",
       "      <th>z-axis (deg/s)</th>\n",
       "    </tr>\n",
       "  </thead>\n",
       "  <tbody>\n",
       "    <tr>\n",
       "      <th>0</th>\n",
       "      <td>1477768048841</td>\n",
       "      <td>2016-10-29T15.07.28.841</td>\n",
       "      <td>0.000000</td>\n",
       "      <td>0.183105</td>\n",
       "      <td>1.403809</td>\n",
       "      <td>-0.610352</td>\n",
       "    </tr>\n",
       "    <tr>\n",
       "      <th>1</th>\n",
       "      <td>1477768048860</td>\n",
       "      <td>2016-10-29T15.07.28.860</td>\n",
       "      <td>0.019043</td>\n",
       "      <td>0.183105</td>\n",
       "      <td>1.586914</td>\n",
       "      <td>-0.671387</td>\n",
       "    </tr>\n",
       "    <tr>\n",
       "      <th>2</th>\n",
       "      <td>1477768048880</td>\n",
       "      <td>2016-10-29T15.07.28.880</td>\n",
       "      <td>0.039551</td>\n",
       "      <td>0.183105</td>\n",
       "      <td>1.708984</td>\n",
       "      <td>-0.549316</td>\n",
       "    </tr>\n",
       "    <tr>\n",
       "      <th>3</th>\n",
       "      <td>1477768048901</td>\n",
       "      <td>2016-10-29T15.07.28.901</td>\n",
       "      <td>0.060059</td>\n",
       "      <td>0.183105</td>\n",
       "      <td>2.319336</td>\n",
       "      <td>-0.549316</td>\n",
       "    </tr>\n",
       "    <tr>\n",
       "      <th>4</th>\n",
       "      <td>1477768048921</td>\n",
       "      <td>2016-10-29T15.07.28.921</td>\n",
       "      <td>0.080566</td>\n",
       "      <td>0.183105</td>\n",
       "      <td>2.563477</td>\n",
       "      <td>-0.427246</td>\n",
       "    </tr>\n",
       "  </tbody>\n",
       "</table>\n",
       "</div>"
      ],
      "text/plain": [
       "       epoc (ms)       timestamp (-04:00)  elapsed (s)  x-axis (deg/s)  \\\n",
       "0  1477768048841  2016-10-29T15.07.28.841     0.000000        0.183105   \n",
       "1  1477768048860  2016-10-29T15.07.28.860     0.019043        0.183105   \n",
       "2  1477768048880  2016-10-29T15.07.28.880     0.039551        0.183105   \n",
       "3  1477768048901  2016-10-29T15.07.28.901     0.060059        0.183105   \n",
       "4  1477768048921  2016-10-29T15.07.28.921     0.080566        0.183105   \n",
       "\n",
       "   y-axis (deg/s)  z-axis (deg/s)  \n",
       "0        1.403809       -0.610352  \n",
       "1        1.586914       -0.671387  \n",
       "2        1.708984       -0.549316  \n",
       "3        2.319336       -0.549316  \n",
       "4        2.563477       -0.427246  "
      ]
     },
     "execution_count": 62,
     "metadata": {},
     "output_type": "execute_result"
    }
   ],
   "source": [
    "gyro.head()"
   ]
  },
  {
   "cell_type": "code",
   "execution_count": 63,
   "metadata": {
    "collapsed": false
   },
   "outputs": [
    {
     "data": {
      "text/plain": [
       "0.02"
      ]
     },
     "execution_count": 63,
     "metadata": {},
     "output_type": "execute_result"
    }
   ],
   "source": [
    "float(1477768048880-1477768048860)/1000"
   ]
  },
  {
   "cell_type": "code",
   "execution_count": 81,
   "metadata": {
    "collapsed": false
   },
   "outputs": [
    {
     "data": {
      "image/png": "[encoded data removed]",
      "text/plain": [
       "<matplotlib.figure.Figure at 0x99e6128>"
      ]
     },
     "metadata": {},
     "output_type": "display_data"
    }
   ],
   "source": [
    "plt.ion()\n",
    "plt.plot(acc['elapsed (s)'],acc['z-axis (g)'],color='0.5')\n",
    "plt.show()"
   ]
  },
  {
   "cell_type": "code",
   "execution_count": 82,
   "metadata": {
    "collapsed": false
   },
   "outputs": [
    {
     "data": {
      "image/png": "[encoded data removed]",
      "text/plain": [
       "<matplotlib.figure.Figure at 0xb4306d8>"
      ]
     },
     "metadata": {},
     "output_type": "display_data"
    }
   ],
   "source": [
    "plt.plot((gyro['elapsed (s)']),gyro['x-axis (deg/s)'],color='0.5')\n",
    "plt.show()"
   ]
  },
  {
   "cell_type": "code",
   "execution_count": 75,
   "metadata": {
    "collapsed": false
   },
   "outputs": [
    {
     "name": "stdout",
     "output_type": "stream",
     "text": [
      "23.619\n"
     ]
    }
   ],
   "source": [
    "#the two tables don't start at the same time, so I am calculating the relative offset between the start times\n",
    "#Once we have the offset, we can add the subsequent timestampts to find the times for each sample in the second\n",
    "#table relative to the first\n",
    "t1_start = acc['timestamp (-04:00)'][0].split('T')[1]\n",
    "t2_start = gyro['timestamp (-04:00)'][0].split('T')[1]\n",
    "\n",
    "def str2secs(s):\n",
    "    h,m,s,ss = map(float,s.split('.')) \n",
    "    return h*3600+m*60 + s+0.001*ss\n",
    "\n",
    "#\"offset\" contains the time difference between the start times of the first and second table\n",
    "offset = str2secs(t2_start) - str2secs(t1_start)\n",
    "print offset"
   ]
  },
  {
   "cell_type": "code",
   "execution_count": 76,
   "metadata": {
    "collapsed": false
   },
   "outputs": [],
   "source": [
    "gyro['time-offset'] = offset+gyro['elapsed (s)']"
   ]
  },
  {
   "cell_type": "code",
   "execution_count": 77,
   "metadata": {
    "collapsed": false
   },
   "outputs": [
    {
     "data": {
      "text/html": [
       "<div>\n",
       "<table border=\"1\" class=\"dataframe\">\n",
       "  <thead>\n",
       "    <tr style=\"text-align: right;\">\n",
       "      <th></th>\n",
       "      <th>epoc (ms)</th>\n",
       "      <th>timestamp (-04:00)</th>\n",
       "      <th>elapsed (s)</th>\n",
       "      <th>x-axis (deg/s)</th>\n",
       "      <th>y-axis (deg/s)</th>\n",
       "      <th>z-axis (deg/s)</th>\n",
       "      <th>time-offset</th>\n",
       "    </tr>\n",
       "  </thead>\n",
       "  <tbody>\n",
       "    <tr>\n",
       "      <th>0</th>\n",
       "      <td>1477768048841</td>\n",
       "      <td>2016-10-29T15.07.28.841</td>\n",
       "      <td>0.000000</td>\n",
       "      <td>0.183105</td>\n",
       "      <td>1.403809</td>\n",
       "      <td>-0.610352</td>\n",
       "      <td>23.619000</td>\n",
       "    </tr>\n",
       "    <tr>\n",
       "      <th>1</th>\n",
       "      <td>1477768048860</td>\n",
       "      <td>2016-10-29T15.07.28.860</td>\n",
       "      <td>0.019043</td>\n",
       "      <td>0.183105</td>\n",
       "      <td>1.586914</td>\n",
       "      <td>-0.671387</td>\n",
       "      <td>23.638043</td>\n",
       "    </tr>\n",
       "    <tr>\n",
       "      <th>2</th>\n",
       "      <td>1477768048880</td>\n",
       "      <td>2016-10-29T15.07.28.880</td>\n",
       "      <td>0.039551</td>\n",
       "      <td>0.183105</td>\n",
       "      <td>1.708984</td>\n",
       "      <td>-0.549316</td>\n",
       "      <td>23.658551</td>\n",
       "    </tr>\n",
       "    <tr>\n",
       "      <th>3</th>\n",
       "      <td>1477768048901</td>\n",
       "      <td>2016-10-29T15.07.28.901</td>\n",
       "      <td>0.060059</td>\n",
       "      <td>0.183105</td>\n",
       "      <td>2.319336</td>\n",
       "      <td>-0.549316</td>\n",
       "      <td>23.679059</td>\n",
       "    </tr>\n",
       "    <tr>\n",
       "      <th>4</th>\n",
       "      <td>1477768048921</td>\n",
       "      <td>2016-10-29T15.07.28.921</td>\n",
       "      <td>0.080566</td>\n",
       "      <td>0.183105</td>\n",
       "      <td>2.563477</td>\n",
       "      <td>-0.427246</td>\n",
       "      <td>23.699566</td>\n",
       "    </tr>\n",
       "  </tbody>\n",
       "</table>\n",
       "</div>"
      ],
      "text/plain": [
       "       epoc (ms)       timestamp (-04:00)  elapsed (s)  x-axis (deg/s)  \\\n",
       "0  1477768048841  2016-10-29T15.07.28.841     0.000000        0.183105   \n",
       "1  1477768048860  2016-10-29T15.07.28.860     0.019043        0.183105   \n",
       "2  1477768048880  2016-10-29T15.07.28.880     0.039551        0.183105   \n",
       "3  1477768048901  2016-10-29T15.07.28.901     0.060059        0.183105   \n",
       "4  1477768048921  2016-10-29T15.07.28.921     0.080566        0.183105   \n",
       "\n",
       "   y-axis (deg/s)  z-axis (deg/s)  time-offset  \n",
       "0        1.403809       -0.610352    23.619000  \n",
       "1        1.586914       -0.671387    23.638043  \n",
       "2        1.708984       -0.549316    23.658551  \n",
       "3        2.319336       -0.549316    23.679059  \n",
       "4        2.563477       -0.427246    23.699566  "
      ]
     },
     "execution_count": 77,
     "metadata": {},
     "output_type": "execute_result"
    }
   ],
   "source": [
    "gyro.head()"
   ]
  },
  {
   "cell_type": "code",
   "execution_count": 83,
   "metadata": {
    "collapsed": false
   },
   "outputs": [
    {
     "data": {
      "image/png": "[encoded data removed]",
      "text/plain": [
       "<matplotlib.figure.Figure at 0xb459eb8>"
      ]
     },
     "metadata": {},
     "output_type": "display_data"
    }
   ],
   "source": [
    "plt.plot(acc['elapsed (s)'],acc['z-axis (g)'],color='0.5')\n",
    "plt.plot(gyro['time-offset'],gyro['x-axis (deg/s)'],color='0.5')\n",
    "plt.show()"
   ]
  },
  {
   "cell_type": "code",
   "execution_count": 90,
   "metadata": {
    "collapsed": false
   },
   "outputs": [
    {
     "data": {
      "text/html": [
       "<div>\n",
       "<table border=\"1\" class=\"dataframe\">\n",
       "  <thead>\n",
       "    <tr style=\"text-align: right;\">\n",
       "      <th></th>\n",
       "      <th>epoc (ms)</th>\n",
       "      <th>timestamp (-04:00)</th>\n",
       "      <th>elapsed (s)</th>\n",
       "      <th>x-axis (g)</th>\n",
       "      <th>y-axis (g)</th>\n",
       "      <th>z-axis (g)</th>\n",
       "    </tr>\n",
       "  </thead>\n",
       "  <tbody>\n",
       "    <tr>\n",
       "      <th>0</th>\n",
       "      <td>1478042378811</td>\n",
       "      <td>2016-11-01T19.19.38.811</td>\n",
       "      <td>0.000000</td>\n",
       "      <td>0.131348</td>\n",
       "      <td>0.043457</td>\n",
       "      <td>0.990234</td>\n",
       "    </tr>\n",
       "    <tr>\n",
       "      <th>1</th>\n",
       "      <td>1478042378832</td>\n",
       "      <td>2016-11-01T19.19.38.832</td>\n",
       "      <td>0.020508</td>\n",
       "      <td>0.131836</td>\n",
       "      <td>0.044434</td>\n",
       "      <td>0.998535</td>\n",
       "    </tr>\n",
       "    <tr>\n",
       "      <th>2</th>\n",
       "      <td>1478042378851</td>\n",
       "      <td>2016-11-01T19.19.38.851</td>\n",
       "      <td>0.039551</td>\n",
       "      <td>0.130859</td>\n",
       "      <td>0.044922</td>\n",
       "      <td>0.995605</td>\n",
       "    </tr>\n",
       "    <tr>\n",
       "      <th>3</th>\n",
       "      <td>1478042378871</td>\n",
       "      <td>2016-11-01T19.19.38.871</td>\n",
       "      <td>0.060059</td>\n",
       "      <td>0.130371</td>\n",
       "      <td>0.043945</td>\n",
       "      <td>0.997070</td>\n",
       "    </tr>\n",
       "    <tr>\n",
       "      <th>4</th>\n",
       "      <td>1478042378890</td>\n",
       "      <td>2016-11-01T19.19.38.890</td>\n",
       "      <td>0.079102</td>\n",
       "      <td>0.130859</td>\n",
       "      <td>0.042480</td>\n",
       "      <td>0.998047</td>\n",
       "    </tr>\n",
       "  </tbody>\n",
       "</table>\n",
       "</div>"
      ],
      "text/plain": [
       "       epoc (ms)       timestamp (-04:00)  elapsed (s)  x-axis (g)  \\\n",
       "0  1478042378811  2016-11-01T19.19.38.811     0.000000    0.131348   \n",
       "1  1478042378832  2016-11-01T19.19.38.832     0.020508    0.131836   \n",
       "2  1478042378851  2016-11-01T19.19.38.851     0.039551    0.130859   \n",
       "3  1478042378871  2016-11-01T19.19.38.871     0.060059    0.130371   \n",
       "4  1478042378890  2016-11-01T19.19.38.890     0.079102    0.130859   \n",
       "\n",
       "   y-axis (g)  z-axis (g)  \n",
       "0    0.043457    0.990234  \n",
       "1    0.044434    0.998535  \n",
       "2    0.044922    0.995605  \n",
       "3    0.043945    0.997070  \n",
       "4    0.042480    0.998047  "
      ]
     },
     "execution_count": 90,
     "metadata": {},
     "output_type": "execute_result"
    }
   ],
   "source": [
    "#Read in the data\n",
    "acc1 = pd.read_csv('L_100.csv',low_memory=False)\n",
    "#Read in Gyroscope data\n",
    "acc2 = pd.read_csv('R_100.csv',low_memory=False)\n",
    "acc1['elapsed (s)'] = pd.to_numeric(acc1['elapsed (s)'])\n",
    "acc1['x-axis (g)'] = pd.to_numeric(acc1['x-axis (g)'])\n",
    "acc1['y-axis (g)'] = pd.to_numeric(acc1['y-axis (g)'])\n",
    "acc1['z-axis (g)'] = pd.to_numeric(acc1['z-axis (g)'])\n",
    "\n",
    "acc2['elapsed (s)'] = pd.to_numeric(acc2['elapsed (s)'])\n",
    "acc2['x-axis (g)'] = pd.to_numeric(acc2['x-axis (g)'])\n",
    "acc2['y-axis (g)'] = pd.to_numeric(acc2['y-axis (g)'])\n",
    "acc2['z-axis (g)'] = pd.to_numeric(acc2['z-axis (g)'])\n",
    "acc1.head()"
   ]
  },
  {
   "cell_type": "code",
   "execution_count": 91,
   "metadata": {
    "collapsed": false
   },
   "outputs": [
    {
     "data": {
      "text/html": [
       "<div>\n",
       "<table border=\"1\" class=\"dataframe\">\n",
       "  <thead>\n",
       "    <tr style=\"text-align: right;\">\n",
       "      <th></th>\n",
       "      <th>epoc (ms)</th>\n",
       "      <th>timestamp (-04:00)</th>\n",
       "      <th>elapsed (s)</th>\n",
       "      <th>x-axis (g)</th>\n",
       "      <th>y-axis (g)</th>\n",
       "      <th>z-axis (g)</th>\n",
       "    </tr>\n",
       "  </thead>\n",
       "  <tbody>\n",
       "    <tr>\n",
       "      <th>0</th>\n",
       "      <td>1478042379948</td>\n",
       "      <td>2016-11-01T19.19.39.948</td>\n",
       "      <td>0.000000</td>\n",
       "      <td>0.112793</td>\n",
       "      <td>-0.011719</td>\n",
       "      <td>0.977539</td>\n",
       "    </tr>\n",
       "    <tr>\n",
       "      <th>1</th>\n",
       "      <td>1478042379969</td>\n",
       "      <td>2016-11-01T19.19.39.969</td>\n",
       "      <td>0.020508</td>\n",
       "      <td>0.113281</td>\n",
       "      <td>-0.011719</td>\n",
       "      <td>0.985840</td>\n",
       "    </tr>\n",
       "    <tr>\n",
       "      <th>2</th>\n",
       "      <td>1478042379989</td>\n",
       "      <td>2016-11-01T19.19.39.989</td>\n",
       "      <td>0.041016</td>\n",
       "      <td>0.113281</td>\n",
       "      <td>-0.012207</td>\n",
       "      <td>0.981445</td>\n",
       "    </tr>\n",
       "    <tr>\n",
       "      <th>3</th>\n",
       "      <td>1478042380010</td>\n",
       "      <td>2016-11-01T19.19.40.010</td>\n",
       "      <td>0.061523</td>\n",
       "      <td>0.113281</td>\n",
       "      <td>-0.011719</td>\n",
       "      <td>0.981934</td>\n",
       "    </tr>\n",
       "    <tr>\n",
       "      <th>4</th>\n",
       "      <td>1478042380030</td>\n",
       "      <td>2016-11-01T19.19.40.030</td>\n",
       "      <td>0.082031</td>\n",
       "      <td>0.111816</td>\n",
       "      <td>-0.011230</td>\n",
       "      <td>0.982422</td>\n",
       "    </tr>\n",
       "  </tbody>\n",
       "</table>\n",
       "</div>"
      ],
      "text/plain": [
       "       epoc (ms)       timestamp (-04:00)  elapsed (s)  x-axis (g)  \\\n",
       "0  1478042379948  2016-11-01T19.19.39.948     0.000000    0.112793   \n",
       "1  1478042379969  2016-11-01T19.19.39.969     0.020508    0.113281   \n",
       "2  1478042379989  2016-11-01T19.19.39.989     0.041016    0.113281   \n",
       "3  1478042380010  2016-11-01T19.19.40.010     0.061523    0.113281   \n",
       "4  1478042380030  2016-11-01T19.19.40.030     0.082031    0.111816   \n",
       "\n",
       "   y-axis (g)  z-axis (g)  \n",
       "0   -0.011719    0.977539  \n",
       "1   -0.011719    0.985840  \n",
       "2   -0.012207    0.981445  \n",
       "3   -0.011719    0.981934  \n",
       "4   -0.011230    0.982422  "
      ]
     },
     "execution_count": 91,
     "metadata": {},
     "output_type": "execute_result"
    }
   ],
   "source": [
    "acc2.head()"
   ]
  },
  {
   "cell_type": "code",
   "execution_count": 92,
   "metadata": {
    "collapsed": false
   },
   "outputs": [
    {
     "name": "stdout",
     "output_type": "stream",
     "text": [
      "1.137\n"
     ]
    }
   ],
   "source": [
    "t1_start = acc1['timestamp (-04:00)'][0].split('T')[1]\n",
    "t2_start = acc2['timestamp (-04:00)'][0].split('T')[1]\n",
    "offset = str2secs(t2_start) - str2secs(t1_start)\n",
    "print offset"
   ]
  },
  {
   "cell_type": "code",
   "execution_count": 93,
   "metadata": {
    "collapsed": true
   },
   "outputs": [],
   "source": [
    "acc2['time-offset'] = offset+acc2['elapsed (s)']"
   ]
  },
  {
   "cell_type": "code",
   "execution_count": 100,
   "metadata": {
    "collapsed": false
   },
   "outputs": [
    {
     "data": {
      "image/png": "[encoded data removed]",
      "text/plain": [
       "<matplotlib.figure.Figure at 0xdc35a20>"
      ]
     },
     "metadata": {},
     "output_type": "display_data"
    }
   ],
   "source": [
    "plt.plot(acc1['elapsed (s)'],acc1['y-axis (g)'],label=\"y-axis\")\n",
    "plt.plot(acc1['elapsed (s)'],acc1['z-axis (g)'],label=\"z-axis\")\n",
    "plt.legend()\n",
    "plt.show()\n"
   ]
  },
  {
   "cell_type": "code",
   "execution_count": null,
   "metadata": {
    "collapsed": true
   },
   "outputs": [],
   "source": []
  }
 ],
 "metadata": {
  "anaconda-cloud": {},
  "kernelspec": {
   "display_name": "Python [default]",
   "language": "python",
   "name": "python2"
  },
  "language_info": {
   "codemirror_mode": {
    "name": "ipython",
    "version": 2
   },
   "file_extension": ".py",
   "mimetype": "text/x-python",
   "name": "python",
   "nbconvert_exporter": "python",
   "pygments_lexer": "ipython2",
   "version": "2.7.12"
  }
 },
 "nbformat": 4,
 "nbformat_minor": 1
}
